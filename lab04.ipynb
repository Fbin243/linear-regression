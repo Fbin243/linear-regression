{
 "cells": [
  {
   "cell_type": "markdown",
   "metadata": {},
   "source": [
    "# <center>OLS Linear Regression</center>"
   ]
  },
  {
   "cell_type": "markdown",
   "metadata": {},
   "source": [
    "## Mục lục\n",
    "- [Chuẩn bị](#c1)\n",
    "- [Hồi quy tuyến tính sử dụng phương pháp bình phương tối thiểu (OLS Linear Regression)](#c2)\n",
    "- [Phương pháp đo lường độ lỗi (sai số)](#c3)"
   ]
  },
  {
   "cell_type": "markdown",
   "metadata": {},
   "source": [
    "## Chuẩn bị <a class=\"anchor\" id=\"c1\"></a>"
   ]
  },
  {
   "cell_type": "code",
   "execution_count": 35,
   "metadata": {},
   "outputs": [],
   "source": [
    "import numpy as np\n",
    "import matplotlib.pyplot as plt"
   ]
  },
  {
   "cell_type": "markdown",
   "metadata": {},
   "source": [
    "### Dữ liệu"
   ]
  },
  {
   "cell_type": "markdown",
   "metadata": {},
   "source": [
    "Sử dụng dữ liệu từ Bài 7 trong Bài tập 4 (Homework 04).\n",
    "Một vật rơi theo phương thẳng đứng theo phương trình sau:\n",
    "\n",
    "$$s = s_0 + v_0t + \\frac{1}{2}gt^2$$\n",
    "\n",
    "Người ta thực hiện thí nghiệm thu được kết quả như sau:\n",
    "\n",
    "| t (x) | 0.1 | 0.2 | 0.3 | 0.4 | 0.5 |\n",
    "|---|---|---|---|---|---|\n",
    "| s (y) | -0.18 | 0.31 | 1.03 | 2.48 | 3.73 |"
   ]
  },
  {
   "cell_type": "markdown",
   "metadata": {},
   "source": [
    "### Trực quan hóa"
   ]
  },
  {
   "cell_type": "code",
   "execution_count": 36,
   "metadata": {},
   "outputs": [
    {
     "data": {
      "text/plain": [
       "(array([[0.1],\n",
       "        [0.2],\n",
       "        [0.3],\n",
       "        [0.4],\n",
       "        [0.5]]),\n",
       " array([[-0.18],\n",
       "        [ 0.31],\n",
       "        [ 1.03],\n",
       "        [ 2.48],\n",
       "        [ 3.73]]))"
      ]
     },
     "execution_count": 36,
     "metadata": {},
     "output_type": "execute_result"
    }
   ],
   "source": [
    "x = np.array([0.1, 0.2, 0.3, 0.4, 0.5]).reshape(-1, 1)\n",
    "y = np.array([-0.18, 0.31, 1.03, 2.48, 3.73]).reshape(-1, 1)\n",
    "x, y"
   ]
  },
  {
   "cell_type": "code",
   "execution_count": 37,
   "metadata": {},
   "outputs": [],
   "source": [
    "def plot_data(x, y):\n",
    "    plt.scatter(x, y, color='b', marker='o')\n",
    "  \n",
    "    plt.xlabel('x')\n",
    "    plt.ylabel('y')\n",
    "  \n",
    "    plt.grid()\n",
    "    plt.show()"
   ]
  },
  {
   "cell_type": "code",
   "execution_count": 38,
   "metadata": {
    "scrolled": false
   },
   "outputs": [
    {
     "data": {
      "image/png": "[encoded data removed]",
      "text/plain": [
       "<Figure size 640x480 with 1 Axes>"
      ]
     },
     "metadata": {},
     "output_type": "display_data"
    }
   ],
   "source": [
    "plot_data(x, y)"
   ]
  },
  {
   "cell_type": "markdown",
   "metadata": {},
   "source": [
    "## Hồi quy tuyến tính sử dụng phương pháp bình phương tối thiểu (OLS Linear Regression) <a class=\"anchor\" id=\"c2\"></a>"
   ]
  },
  {
   "cell_type": "markdown",
   "metadata": {},
   "source": [
    "Ta cần tìm nghiệm của phương trình $Ax \\approx b$"
   ]
  },
  {
   "cell_type": "markdown",
   "metadata": {},
   "source": [
    "Xét ma trận **A** có kích thước *m x n* (*m* > *n*) và vector (cột) **b** có kích thước *m*. Ta có chuẩn Euclidean của bình phương phần dư $r$ của $Ax - b$ như sau:\n",
    "\n",
    "**$$r = ||Ax - b||^{2} \\ \\ \\ \\  (1) $$**\n"
   ]
  },
  {
   "cell_type": "markdown",
   "metadata": {},
   "source": [
    "Để giải được nghiệm $x$ cho hệ phương trình, ta thực hiện tối thiểu hóa công thức (1) được nghiệm $x$ của hệ phương trình được tính như sau:\n",
    "\n",
    "$$x = (A^T A)^{-1} A^T b$$\n",
    "\n",
    "*Note: $(A^T A)^{-1} A^T$ là ma trận giả nghịch đảo của A*"
   ]
  },
  {
   "cell_type": "markdown",
   "metadata": {},
   "source": [
    "Bài thực hành này sử dụng tên gọi khác cho đầu vào, đầu ra và tham số trong hồi quy tuyến tính như sau:\n",
    "- $A \\to X$\n",
    "- $b \\to y$\n",
    "- $x \\to w$ ($w$: weight)\n",
    "\n",
    "$Ax \\approx b \\to Xw \\approx y$ hay $ Xw = y$ ($y$ được gọi là đường hồi quy (regression line))"
   ]
  },
  {
   "cell_type": "markdown",
   "metadata": {},
   "source": [
    "### Tiền xử lý"
   ]
  },
  {
   "cell_type": "markdown",
   "metadata": {},
   "source": [
    "Tiền xử lý dữ liệu theo phương trình (1)."
   ]
  },
  {
   "cell_type": "code",
   "execution_count": 39,
   "metadata": {},
   "outputs": [],
   "source": [
    "def preprocess(x, y):\n",
    "    X = np.hstack((np.ones((x.shape[0], 1)), x, x**2))\n",
    "    \n",
    "    return X, y"
   ]
  },
  {
   "cell_type": "code",
   "execution_count": 40,
   "metadata": {},
   "outputs": [
    {
     "data": {
      "text/plain": [
       "(array([[0.1],\n",
       "        [0.2],\n",
       "        [0.3],\n",
       "        [0.4],\n",
       "        [0.5]]),\n",
       " array([[-0.18],\n",
       "        [ 0.31],\n",
       "        [ 1.03],\n",
       "        [ 2.48],\n",
       "        [ 3.73]]))"
      ]
     },
     "execution_count": 40,
     "metadata": {},
     "output_type": "execute_result"
    }
   ],
   "source": [
    "x, y"
   ]
  },
  {
   "cell_type": "code",
   "execution_count": 41,
   "metadata": {},
   "outputs": [
    {
     "data": {
      "text/plain": [
       "(array([[1.  , 0.1 , 0.01],\n",
       "        [1.  , 0.2 , 0.04],\n",
       "        [1.  , 0.3 , 0.09],\n",
       "        [1.  , 0.4 , 0.16],\n",
       "        [1.  , 0.5 , 0.25]]),\n",
       " array([[-0.18],\n",
       "        [ 0.31],\n",
       "        [ 1.03],\n",
       "        [ 2.48],\n",
       "        [ 3.73]]))"
      ]
     },
     "execution_count": 41,
     "metadata": {},
     "output_type": "execute_result"
    }
   ],
   "source": [
    "X, y = preprocess(x, y)\n",
    "X, y"
   ]
  },
  {
   "cell_type": "markdown",
   "metadata": {},
   "source": [
    "### OLS Linear Regression"
   ]
  },
  {
   "cell_type": "code",
   "execution_count": 42,
   "metadata": {},
   "outputs": [],
   "source": [
    "class OLSLinearRegression:\n",
    "    def fit(self, X, y):\n",
    "        X_pinv = np.linalg.inv(X.T @ X) @ X.T    # np.linalg.pinv(X)\n",
    "        self.w = X_pinv @ y\n",
    "\n",
    "        return self\n",
    "\n",
    "\n",
    "    def get_params(self):\n",
    "        return self.w\n",
    "\n",
    "\n",
    "    def predict(self, X):\n",
    "        return np.sum(self.w.ravel() * X, axis=1)   "
   ]
  },
  {
   "cell_type": "code",
   "execution_count": 43,
   "metadata": {},
   "outputs": [],
   "source": [
    "lr = OLSLinearRegression().fit(X, y)"
   ]
  },
  {
   "cell_type": "code",
   "execution_count": 44,
   "metadata": {},
   "outputs": [
    {
     "data": {
      "text/plain": [
       "array([[-0.398     ],\n",
       "       [ 0.34714286],\n",
       "       [16.07142857]])"
      ]
     },
     "execution_count": 44,
     "metadata": {},
     "output_type": "execute_result"
    }
   ],
   "source": [
    "lr.get_params()"
   ]
  },
  {
   "cell_type": "markdown",
   "metadata": {},
   "source": [
    "### Trực quan hóa"
   ]
  },
  {
   "cell_type": "code",
   "execution_count": 53,
   "metadata": {},
   "outputs": [],
   "source": [
    "def plot_regression(lr, x, y):  \n",
    "    # Plot data\n",
    "    plt.scatter(x, y, color='b', marker='o')\n",
    "  \n",
    "    # Plot regression line\n",
    "    x_para = np.linspace(0, 0.6, 1000).reshape(-1, 1)\n",
    "    X_para = np.hstack((np.ones((x_para.shape[0], 1)), x_para, x_para**2))\n",
    "    y_pred = lr.predict(X_para)\n",
    "    plt.plot(x_para, y_pred, color='r')\n",
    "  \n",
    "    plt.xlabel('x')\n",
    "    plt.ylabel('y')\n",
    "    \n",
    "    plt.grid()\n",
    "    plt.show()"
   ]
  },
  {
   "cell_type": "code",
   "execution_count": 54,
   "metadata": {},
   "outputs": [
    {
     "data": {
      "image/png": "[encoded data removed]",
      "text/plain": [
       "<Figure size 640x480 with 1 Axes>"
      ]
     },
     "metadata": {},
     "output_type": "display_data"
    }
   ],
   "source": [
    "plot_regression(lr, x, y)"
   ]
  },
  {
   "cell_type": "markdown",
   "metadata": {},
   "source": [
    "## Phương pháp đo lường độ lỗi <a class=\"anchor\" id=\"c3\"></a>"
   ]
  },
  {
   "cell_type": "markdown",
   "metadata": {},
   "source": [
    "### Số số (độ lỗi) tuyệt đối trung bình (MAE - Mean Absolute Error)"
   ]
  },
  {
   "cell_type": "markdown",
   "metadata": {},
   "source": [
    "MSE được dùng để ước lượng **trung bình của sai số (độ lỗi) bình phương**, được tính bằng công thức:\n",
    "\n",
    "$$MSE = \\frac{1}{n} \\sum_{n}^{i = 1}|y_i - \\hat{y_i}|$$\n",
    "\n",
    "Trong đó:\n",
    "- $n$: số lượng mẫu quan sát\n",
    "- $y_i$: giá trị mục tiêu của mẫu thứ $i$\n",
    "- $\\hat{y_i}$: giá trị mục tiêu của mẫu thứ $i$ được dự đoán từ mô hình hồi quy tuyến tính"
   ]
  },
  {
   "cell_type": "code",
   "execution_count": 47,
   "metadata": {},
   "outputs": [],
   "source": [
    "def mae(y, y_hat):\n",
    "    return np.mean(np.abs(y.ravel() - y_hat.ravel()))"
   ]
  },
  {
   "cell_type": "code",
   "execution_count": 48,
   "metadata": {},
   "outputs": [
    {
     "data": {
      "text/plain": [
       "0.0761142857142871"
      ]
     },
     "execution_count": 48,
     "metadata": {},
     "output_type": "execute_result"
    }
   ],
   "source": [
    "y_hat = lr.predict(X)\n",
    "mae(y, y_hat)"
   ]
  },
  {
   "cell_type": "markdown",
   "metadata": {},
   "source": [
    "### Sai số (độ lỗi) bình phương trung bình (MSE - Mean Squared Error)"
   ]
  },
  {
   "cell_type": "markdown",
   "metadata": {},
   "source": [
    "MSE được dùng để ước lượng **trung bình của sai số (độ lỗi) bình phương**, được tính bằng công thức:\n",
    "\n",
    "$$MSE = \\frac{1}{n} \\sum_{n}^{i = 1}(y_i - \\hat{y_i})^2$$"
   ]
  },
  {
   "cell_type": "code",
   "execution_count": 49,
   "metadata": {},
   "outputs": [],
   "source": [
    "def mse(y, y_hat):\n",
    "    return np.mean((y.ravel() - y_hat.ravel())**2)"
   ]
  },
  {
   "cell_type": "code",
   "execution_count": 50,
   "metadata": {},
   "outputs": [
    {
     "data": {
      "text/plain": [
       "0.009540571428571376"
      ]
     },
     "execution_count": 50,
     "metadata": {},
     "output_type": "execute_result"
    }
   ],
   "source": [
    "y_hat = lr.predict(X)\n",
    "mse(y, y_hat)"
   ]
  },
  {
   "cell_type": "markdown",
   "metadata": {},
   "source": [
    "### Căn bậc hai của sai số (độ lỗi) bình phương trung bình (RMSE - Root Mean Squared Error)"
   ]
  },
  {
   "cell_type": "markdown",
   "metadata": {},
   "source": [
    "RMSE được dùng để ước lượng **căn bậc hai trung bình của sai số (độ lỗi) bình phương**, được tính bằng công thức:\n",
    "\n",
    "$$RMSE = \\sqrt{MSE} = \\sqrt{\\frac{1}{n} \\sum_{n}^{i = 1}(y_i - \\hat{y_i})^2}$$"
   ]
  },
  {
   "cell_type": "code",
   "execution_count": 51,
   "metadata": {},
   "outputs": [],
   "source": [
    "def rmse(y, y_hat):\n",
    "    return np.sqrt(np.mean((y.ravel() - y_hat.ravel())**2))"
   ]
  },
  {
   "cell_type": "code",
   "execution_count": 52,
   "metadata": {},
   "outputs": [
    {
     "data": {
      "text/plain": [
       "0.09767584874763759"
      ]
     },
     "execution_count": 52,
     "metadata": {},
     "output_type": "execute_result"
    }
   ],
   "source": [
    "y_hat = lr.predict(X)\n",
    "rmse(y, y_hat)"
   ]
  }
 ],
 "metadata": {
  "kernelspec": {
   "display_name": "Python 3.8.5 ('base')",
   "language": "python",
   "name": "python3"
  },
  "language_info": {
   "codemirror_mode": {
    "name": "ipython",
    "version": 3
   },
   "file_extension": ".py",
   "mimetype": "text/x-python",
   "name": "python",
   "nbconvert_exporter": "python",
   "pygments_lexer": "ipython3",
   "version": "3.10.9"
  },
  "vscode": {
   "interpreter": {
    "hash": "15af99fd1a1a3f0a3416ea421564e792a8676a13670c2eed127d89ab0518a27b"
   }
  }
 },
 "nbformat": 4,
 "nbformat_minor": 2
}
